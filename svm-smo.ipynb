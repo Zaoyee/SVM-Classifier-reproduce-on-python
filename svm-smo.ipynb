{
 "cells": [
  {
   "cell_type": "code",
   "execution_count": 1,
   "metadata": {},
   "outputs": [],
   "source": [
    "import numpy as np\n",
    "import pandas as pd"
   ]
  },
  {
   "cell_type": "code",
   "execution_count": 4,
   "metadata": {},
   "outputs": [
    {
     "data": {
      "text/html": [
       "<div>\n",
       "<style scoped>\n",
       "    .dataframe tbody tr th:only-of-type {\n",
       "        vertical-align: middle;\n",
       "    }\n",
       "\n",
       "    .dataframe tbody tr th {\n",
       "        vertical-align: top;\n",
       "    }\n",
       "\n",
       "    .dataframe thead th {\n",
       "        text-align: right;\n",
       "    }\n",
       "</style>\n",
       "<table border=\"1\" class=\"dataframe\">\n",
       "  <thead>\n",
       "    <tr style=\"text-align: right;\">\n",
       "      <th></th>\n",
       "      <th>X1</th>\n",
       "      <th>X2</th>\n",
       "      <th>label</th>\n",
       "    </tr>\n",
       "  </thead>\n",
       "  <tbody>\n",
       "    <tr>\n",
       "      <th>0</th>\n",
       "      <td>2.526093</td>\n",
       "      <td>0.321050</td>\n",
       "      <td>0</td>\n",
       "    </tr>\n",
       "    <tr>\n",
       "      <th>1</th>\n",
       "      <td>0.366954</td>\n",
       "      <td>0.031462</td>\n",
       "      <td>0</td>\n",
       "    </tr>\n",
       "    <tr>\n",
       "      <th>2</th>\n",
       "      <td>0.768219</td>\n",
       "      <td>0.717486</td>\n",
       "      <td>0</td>\n",
       "    </tr>\n",
       "    <tr>\n",
       "      <th>3</th>\n",
       "      <td>0.693436</td>\n",
       "      <td>0.777194</td>\n",
       "      <td>0</td>\n",
       "    </tr>\n",
       "    <tr>\n",
       "      <th>4</th>\n",
       "      <td>-0.019837</td>\n",
       "      <td>0.867254</td>\n",
       "      <td>0</td>\n",
       "    </tr>\n",
       "  </tbody>\n",
       "</table>\n",
       "</div>"
      ],
      "text/plain": [
       "         X1        X2  label\n",
       "0  2.526093  0.321050      0\n",
       "1  0.366954  0.031462      0\n",
       "2  0.768219  0.717486      0\n",
       "3  0.693436  0.777194      0\n",
       "4 -0.019837  0.867254      0"
      ]
     },
     "execution_count": 4,
     "metadata": {},
     "output_type": "execute_result"
    }
   ],
   "source": [
    "data_total = pd.read_csv('./ESL-data/ESLmixture.csv').iloc[:,1:]\n",
    "data_total.head(n=5)"
   ]
  },
  {
   "cell_type": "code",
   "execution_count": 13,
   "metadata": {},
   "outputs": [],
   "source": [
    "train_data = data_total.iloc[:,[0,1]]\n",
    "label = data_total[\"label\"][:,np.newaxis]"
   ]
  },
  {
   "cell_type": "code",
   "execution_count": 14,
   "metadata": {},
   "outputs": [],
   "source": [
    "num_data, num_feature = train_data.shape"
   ]
  },
  {
   "cell_type": "code",
   "execution_count": 16,
   "metadata": {},
   "outputs": [],
   "source": [
    "# Initialize some paramters\n",
    "alpha_vec = np.zeros((num_data,1))\n",
    "iter_num = 50\n",
    "C = 100"
   ]
  },
  {
   "cell_type": "code",
   "execution_count": 20,
   "metadata": {},
   "outputs": [],
   "source": [
    "def find_new_index(i):\n",
    "    j = np.random.randint(1, iter_num+1, 1)\n",
    "    if (i == j):\n",
    "        return(find_new_index)\n",
    "    else:\n",
    "        return(j)"
   ]
  },
  {
   "cell_type": "code",
   "execution_count": 26,
   "metadata": {},
   "outputs": [
    {
     "ename": "SyntaxError",
     "evalue": "invalid syntax (<ipython-input-26-b06052d7cf39>, line 49)",
     "output_type": "error",
     "traceback": [
      "\u001b[0;36m  File \u001b[0;32m\"<ipython-input-26-b06052d7cf39>\"\u001b[0;36m, line \u001b[0;32m49\u001b[0m\n\u001b[0;31m    if (alpha_new_i > 0) and (alpha_new_i < C)\u001b[0m\n\u001b[0m                                              ^\u001b[0m\n\u001b[0;31mSyntaxError\u001b[0m\u001b[0;31m:\u001b[0m invalid syntax\n"
     ]
    }
   ],
   "source": [
    "# main function for svm-smo\n",
    "iter_i = 0\n",
    "intercept = 0\n",
    "while iter_i <= iter_num:\n",
    "    alpha_changed = 0\n",
    "    for i in range(num_data):\n",
    "        gX_i = np.inner(alpha_vec, label).T * (np.dot(train_data, train_data[i,:].T)) + intercept\n",
    "        E_i = gX_i - label[i]\n",
    "        criterion = label[i] * gX_i\n",
    "        if (((label[i]*E_i < -1e3) and (alpha_vec[i] < C)) \n",
    "            or ((label[i]*E_i > 1e3) and (alpha_vec[i] > 0))):\n",
    "            j = find_new_index(i)\n",
    "            gX_j = (alpha_vec * label).T * (np.dot(train_data, train_data[j,:].T)) + intercept\n",
    "            E_j = gX_j - label[j]\n",
    "            alpha_old_i = alpha_vec[i]\n",
    "            alpha_old_j = alpha_vec[j]\n",
    "            \n",
    "            if label[i] != label[j]:\n",
    "                L = np.max(0, alpha_old_j - alpha_old_i)\n",
    "                H = np.min(C, C + alpha_old_j - alpha_old_i)\n",
    "            else:\n",
    "                L = np.max(0, alpha_old_j + alpha_old_i - C)\n",
    "                H = np.min(C, alpha_old_j + alpha_old_i)\n",
    "            \n",
    "            if L==H:\n",
    "                continue\n",
    "            \n",
    "            x1 = train_data[i,:]\n",
    "            x2 = train_data[j,:]\n",
    "            eta = 2 * np.inner(x1, x2) - np.inner(x1,x1) - np.inner(x2,x2)\n",
    "            alpha_new_j = alpha_old_j - label[j] * (E_i - E_j) / eta\n",
    "            \n",
    "            if alpha_new_j > H:\n",
    "                alpha_new_j = H\n",
    "            elif alpha_new_j < L:\n",
    "                alpha_new_j = L\n",
    "                \n",
    "            if np.abs(alpha_new_j - alpha_old_j) < 1e-4:\n",
    "                continue\n",
    "            else:\n",
    "                alpha_new_i = alpha_old_j + label[i]*label[j]*(alpha_old_j - alpha_new_j)\n",
    "            \n",
    "            # intercept decision\n",
    "            intercept_new_1 = (intercept - E_i - label[i]*(alpha_new_i - alpha_old_i)*np.inner(x1,x1) \n",
    "                               - label[j]*(alpha_new_j - alpha_old_j)*np.inner(x1,x2))\n",
    "            intercept_new_2 = (intercept - E_j - label[i]*(alpha_new_i - alpha_old_i)*np.inner(x1,x2) \n",
    "                               - label[j]*(alpha_new_j - alpha_old_j)*np.inner(x2,x2))\n",
    "            \n",
    "            if (alpha_new_i > 0) and (alpha_new_i < C):\n",
    "                intercept = intercept_new_1\n",
    "            elif (alpha_new_j > 0) and (alpha_new_j < C):\n",
    "                intercept = intercept_new_2\n",
    "            else:\n",
    "                intercept = (intercept_new_1 + intercept_new_2) / 2\n",
    "            alpha_vec[i] = alpha_new_i\n",
    "            alpha_vec[j] = alpha_new_j\n",
    "            alpha_changed += 1\n",
    "            \n",
    "    if alpha_chenged == 0:\n",
    "        iter += 1\n",
    "    else:\n",
    "        iter = 0\n",
    "        \n",
    "                "
   ]
  },
  {
   "cell_type": "code",
   "execution_count": null,
   "metadata": {},
   "outputs": [],
   "source": []
  }
 ],
 "metadata": {
  "kernelspec": {
   "display_name": "Python 3",
   "language": "python",
   "name": "python3"
  },
  "language_info": {
   "codemirror_mode": {
    "name": "ipython",
    "version": 3
   },
   "file_extension": ".py",
   "mimetype": "text/x-python",
   "name": "python",
   "nbconvert_exporter": "python",
   "pygments_lexer": "ipython3",
   "version": "3.7.4"
  }
 },
 "nbformat": 4,
 "nbformat_minor": 4
}
